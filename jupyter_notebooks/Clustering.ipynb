{
 "cells": [
  {
   "cell_type": "code",
   "execution_count": 15,
   "id": "0250b71a-19d0-4625-83dd-ae8ff79be883",
   "metadata": {},
   "outputs": [],
   "source": [
    "# Import Dependencies\n",
    "import hvplot.pandas\n",
    "from path import Path\n",
    "import plotly.express as px\n",
    "from sklearn.preprocessing import StandardScaler, MinMaxScaler\n",
    "from sklearn.decomposition import PCA\n",
    "from sklearn.cluster import KMeans\n",
    "import sqlalchemy\n",
    "import pandas as pd\n",
    "from sqlalchemy.ext.automap import automap_base\n",
    "from sqlalchemy.orm import Session\n",
    "from sqlalchemy import create_engine, inspect, MetaData, Table\n",
    "import os\n",
    "from config import *\n",
    "\n",
    "\n"
   ]
  },
  {
   "cell_type": "code",
   "execution_count": 17,
   "id": "e12263d7-1885-4c03-aca2-f05a3f62bfc4",
   "metadata": {},
   "outputs": [
    {
     "ename": "NameError",
     "evalue": "name 'config' is not defined",
     "output_type": "error",
     "traceback": [
      "\u001b[1;31m---------------------------------------------------------------------------\u001b[0m",
      "\u001b[1;31mNameError\u001b[0m                                 Traceback (most recent call last)",
      "\u001b[1;32m~\\AppData\\Local\\Temp/ipykernel_13652/2829843348.py\u001b[0m in \u001b[0;36m<module>\u001b[1;34m\u001b[0m\n\u001b[0;32m      1\u001b[0m \u001b[1;31m#Create Connection to AWS\u001b[0m\u001b[1;33m\u001b[0m\u001b[1;33m\u001b[0m\u001b[1;33m\u001b[0m\u001b[0m\n\u001b[1;32m----> 2\u001b[1;33m \u001b[0mdatabase_url\u001b[0m\u001b[1;33m=\u001b[0m \u001b[0mconfig\u001b[0m\u001b[1;33m.\u001b[0m\u001b[0mdatabase_url\u001b[0m\u001b[1;33m\u001b[0m\u001b[1;33m\u001b[0m\u001b[0m\n\u001b[0m\u001b[0;32m      3\u001b[0m \u001b[1;33m\u001b[0m\u001b[0m\n\u001b[0;32m      4\u001b[0m \u001b[0mengine\u001b[0m\u001b[1;33m=\u001b[0m \u001b[0mcreate_engine\u001b[0m\u001b[1;33m(\u001b[0m\u001b[0mdatabase_url\u001b[0m\u001b[1;33m)\u001b[0m\u001b[1;33m\u001b[0m\u001b[1;33m\u001b[0m\u001b[0m\n\u001b[0;32m      5\u001b[0m \u001b[0mconnection\u001b[0m \u001b[1;33m=\u001b[0m \u001b[0mengine\u001b[0m\u001b[1;33m.\u001b[0m\u001b[0mconnect\u001b[0m\u001b[1;33m(\u001b[0m\u001b[1;33m)\u001b[0m\u001b[1;33m\u001b[0m\u001b[1;33m\u001b[0m\u001b[0m\n",
      "\u001b[1;31mNameError\u001b[0m: name 'config' is not defined"
     ]
    }
   ],
   "source": [
    "#Create Connection to AWS\n",
    "database_url= config.database_url\n",
    "\n",
    "engine= create_engine(database_url)\n",
    "connection = engine.connect()"
   ]
  },
  {
   "cell_type": "code",
   "execution_count": null,
   "id": "48490e30-c8c0-43e9-90e7-6cfebe397e3e",
   "metadata": {},
   "outputs": [],
   "source": [
    "df = pd.read_sql_table('confirmed_planets1', engine)"
   ]
  },
  {
   "cell_type": "code",
   "execution_count": null,
   "id": "3ce5bf68-5ef7-4292-beef-f065ebbc569b",
   "metadata": {},
   "outputs": [],
   "source": [
    "df2 = df.drop(['planet_name', 'distance', 'host_name', 'koi_name', 'exoplanet_archive_disposition', 'orbital_period', 'transit_epoch', 'impact_parameter', 'insolation_flux',\n",
    "               'transit_signal_to_noise', 'tce_planet_number', 'stellar_surface_gravity', 'stellar_effective_temperature', 'stellar_radius', 'ra', 'kepler_band'], axis=1)"
   ]
  },
  {
   "cell_type": "code",
   "execution_count": null,
   "id": "c71e9f67-b5ec-4b9d-afd4-ee4153e2b1f3",
   "metadata": {},
   "outputs": [],
   "source": [
    "df2 = df2.drop(['transit_duration', 'transit_depth', 'decimal_degrees', 'planetary_radius'], axis=1)\n",
    "df2"
   ]
  },
  {
   "cell_type": "code",
   "execution_count": null,
   "id": "53ed1d39-7dbe-48d1-9e49-a80ae5bd6852",
   "metadata": {},
   "outputs": [],
   "source": [
    "#Use get_dummmies() to create variables for text features\n",
    "X= pd.get_dummies(df2, columns=['planet_mass', 'planet_radius', 'equilibrium_temperature'])"
   ]
  },
  {
   "cell_type": "code",
   "execution_count": null,
   "id": "30a7095b-ee5a-445d-9386-5bacfa616288",
   "metadata": {},
   "outputs": [],
   "source": [
    "#Standardize the data with StandardScaler()\n",
    "X_scaled = StandardScaler().fit_transform(X)\n"
   ]
  },
  {
   "cell_type": "code",
   "execution_count": null,
   "id": "c6baa2b4-bdf2-4054-814b-83425b81ab29",
   "metadata": {},
   "outputs": [],
   "source": [
    "#Using PCA to reduce dimension to three principal components\n",
    "pca = PCA(n_components = 3)\n"
   ]
  },
  {
   "cell_type": "code",
   "execution_count": null,
   "id": "280315e9-577c-4113-a894-f80f51ec0d97",
   "metadata": {},
   "outputs": [],
   "source": [
    "index = (X.index.tolist())"
   ]
  },
  {
   "cell_type": "code",
   "execution_count": null,
   "id": "b7e3d889-0151-4bae-b727-1dba4994c105",
   "metadata": {},
   "outputs": [],
   "source": [
    "#Create a DataFrame with 3 principal components\n",
    "X_pca = pca.fit_transform(X_scaled)\n",
    "pca_df = pd.DataFrame(data=X_pca, columns =['PC1', 'PC2', 'PC3'], index = index)\n"
   ]
  },
  {
   "cell_type": "code",
   "execution_count": null,
   "id": "5fa2db8f-1c4d-4118-a4c3-6813de63fa5a",
   "metadata": {},
   "outputs": [],
   "source": [
    "#Create and elbow curve to find the best value for K\n",
    "inertia = []\n",
    "k = list(range(1,11))\n",
    "\n",
    "for i in k:\n",
    "    km = KMeans(n_clusters=i)\n",
    "    km.fit(pca_df)\n",
    "    inertia.append(km.inertia_)"
   ]
  },
  {
   "cell_type": "code",
   "execution_count": null,
   "id": "b21faf74-cc79-4062-9202-cc48ed0611b1",
   "metadata": {},
   "outputs": [],
   "source": [
    "elbow = {'k': k, 'inertia': inertia}\n",
    "elbow_df = pd.DataFrame(elbow)\n",
    "elbow_df.hvplot.line(x='k' , y='inertia', title= 'Elbow Curve', xticks=k)"
   ]
  },
  {
   "cell_type": "code",
   "execution_count": null,
   "id": "cd7f530d-c966-4d2b-aeff-13af1c6b0833",
   "metadata": {},
   "outputs": [],
   "source": [
    "# Initialize the K-Means model.\n",
    "model= KMeans(n_clusters=8)\n",
    "\n",
    "# Fit the model\n",
    "model.fit(pca_df)\n",
    "\n",
    "# Predict clusters\n",
    "predictions = model.predict(pca_df)\n",
    "\n",
    "pca_df['Class'] = model.labels_"
   ]
  },
  {
   "cell_type": "code",
   "execution_count": null,
   "id": "a042171a-6b4c-464c-bd04-a755ca899f2a",
   "metadata": {},
   "outputs": [],
   "source": [
    "# Create a new DataFrame including predicted clusters and cryptocurrencies features.\n",
    "# Concatentate the crypto_df and pcs_df DataFrames on the same columns.\n",
    "clustered_df= df2.join(pca_df, how='inner')\n",
    "\n",
    "\n",
    "#  Add a new column, \"CoinName\" to the clustered_df DataFrame that holds the names of the cryptocurrencies. \n",
    "# clustered_df = clustered_df.join(crypto_names, how='inner')"
   ]
  },
  {
   "cell_type": "code",
   "execution_count": null,
   "id": "f4d1c9f3-994d-436e-9107-da17551e673d",
   "metadata": {},
   "outputs": [],
   "source": [
    "# Creating a 3D-Scatter with the PCA data and the clusters\n",
    "fig = px.scatter_3d(\n",
    "    clustered_df,\n",
    "    x='PC1', \n",
    "    y='PC2',\n",
    "    z='PC3',\n",
    "    color='Class',\n",
    "    symbol='Class',\n",
    "    hover_name='Class',\n",
    "    hover_data=['planet_mass','planet_radius','equilibrium_temperature'])\n",
    "fig.update_layout(legend=dict(x=0, y=1))\n",
    "fig.show()\n"
   ]
  },
  {
   "cell_type": "code",
   "execution_count": null,
   "id": "a88973f9-fce3-4577-bff9-beeb31f71be6",
   "metadata": {},
   "outputs": [],
   "source": []
  }
 ],
 "metadata": {
  "kernelspec": {
   "display_name": "Python 3 (ipykernel)",
   "language": "python",
   "name": "python3"
  },
  "language_info": {
   "codemirror_mode": {
    "name": "ipython",
    "version": 3
   },
   "file_extension": ".py",
   "mimetype": "text/x-python",
   "name": "python",
   "nbconvert_exporter": "python",
   "pygments_lexer": "ipython3",
   "version": "3.7.11"
  }
 },
 "nbformat": 4,
 "nbformat_minor": 5
}
